{
 "cells": [
  {
   "cell_type": "markdown",
   "metadata": {},
   "source": [
    "- append(): adds an element to the end of the list.\n",
    "- insert(): adds an element at a specified position in the list.\n",
    "- remove(): removes the first occurrence of a specified element from the list.\n",
    "- pop(): removes the element at a specified position in the list and returns it.\n",
    "- sort(): sorts the elements in the list in ascending order.\n",
    "- reverse(): reverses the order of the elements in the list.\n",
    "- count(): returns the number of times a specified element appears in the list.\n",
    "- index(): returns the index of the first occurrence of a specified element in the list.\n",
    "- extend(): extends the list by appending elements from another iterable."
   ]
  },
  {
   "cell_type": "code",
   "execution_count": 6,
   "metadata": {},
   "outputs": [
    {
     "name": "stdout",
     "output_type": "stream",
     "text": [
      "[0, 1, 2, 3, 4]\n"
     ]
    }
   ],
   "source": [
    "# Write a program that creates an empty list and then asks the user to input integers to add to the list. Print the final list.\n",
    "n = int(input(\"enter a number\"))\n",
    "l = []\n",
    "for i in range(n):\n",
    "    l.append(i)\n",
    "print(l)    "
   ]
  },
  {
   "cell_type": "code",
   "execution_count": 8,
   "metadata": {},
   "outputs": [
    {
     "name": "stdout",
     "output_type": "stream",
     "text": [
      "opps! not present\n"
     ]
    }
   ],
   "source": [
    "# Write a program that creates a list of integers and then asks the user to input an integer to check if it exists in the list. Print a message indicating whether the integer is in the list or not.\n",
    "\n",
    "l = [1,2,4,3,6,4,5,8,9,7,8]\n",
    "n = int(input(\"enter your number\"))\n",
    "if n in l :\n",
    "    print(\"number is :\",n)\n",
    "else:\n",
    "    print(\"opps! not present\")"
   ]
  },
  {
   "cell_type": "code",
   "execution_count": 13,
   "metadata": {},
   "outputs": [
    {
     "name": "stdout",
     "output_type": "stream",
     "text": [
      "['a', 'b', 'd', 'h', 's', 'v', 'w']\n"
     ]
    }
   ],
   "source": [
    "# Write a program that creates a list of strings and then sorts the list alphabetically. Print the sorted list. \n",
    "\n",
    "l = ['a','v','d','s','w','b','h']\n",
    "l.sort()\n",
    "print(l)\n",
    "\n"
   ]
  },
  {
   "cell_type": "code",
   "execution_count": 14,
   "metadata": {},
   "outputs": [
    {
     "name": "stdout",
     "output_type": "stream",
     "text": [
      "9\n"
     ]
    }
   ],
   "source": [
    "# Write a program that creates a list of integers and then finds the maximum value in the list. Print the maximum value.\n",
    "\n",
    "l = [1,2,4,3,6,4,5,8,9,7,8]\n",
    "max_value = max(l)\n",
    "print(max_value)"
   ]
  },
  {
   "cell_type": "code",
   "execution_count": 17,
   "metadata": {},
   "outputs": [
    {
     "name": "stdout",
     "output_type": "stream",
     "text": [
      "[2]\n"
     ]
    }
   ],
   "source": [
    "# Write a program that creates two lists of integers and then finds the common elements between those two lists. Print the common elements.\n",
    "\n",
    "l1 = [1,3,2,4]\n",
    "l2 = [5,2,6,7]\n",
    "l = []\n",
    "for x in l1:\n",
    "    if x in l2:\n",
    "      l.append(x)\n",
    "print(l)"
   ]
  },
  {
   "cell_type": "code",
   "execution_count": 2,
   "metadata": {},
   "outputs": [
    {
     "name": "stdout",
     "output_type": "stream",
     "text": [
      "an\n"
     ]
    }
   ],
   "source": [
    "# Write a program that creates a list of strings and then removes all elements that contain a specific substring. Print the final list.\n",
    "\n",
    "l = [\"apple\", \"banana\", \"cherry\", \"grape\", \"orange\", \"peach\", \"plum\"]\n",
    "sub = \"na\"\n",
    "if sub in l:\n",
    "    l.remove(sub)\n",
    "print(sub)"
   ]
  },
  {
   "cell_type": "code",
   "execution_count": 3,
   "metadata": {},
   "outputs": [
    {
     "name": "stdout",
     "output_type": "stream",
     "text": [
      "Joe\n"
     ]
    }
   ],
   "source": [
    "# Write a program that creates a nested list and then accesses a specific element in the list. Print the accessed element.\n",
    "\n",
    "MyList = [[22, 14, 16], [\"Joe\", \"Sam\", \"Abel\"], [True, False, True]]\n",
    "print(MyList[1][0])"
   ]
  },
  {
   "cell_type": "code",
   "execution_count": 4,
   "metadata": {},
   "outputs": [
    {
     "name": "stdout",
     "output_type": "stream",
     "text": [
      "{1, 2, 3, 4, 5, 6, 7, 8, 9}\n"
     ]
    }
   ],
   "source": [
    "# Write a program that creates a list of integers and then removes all duplicates from the list. Print the final list.\n",
    "\n",
    "l = [1,2,3,4,5,5,1,2,1,3,5,6,6,8,9,1,7]\n",
    "print(set(l))"
   ]
  },
  {
   "cell_type": "code",
   "execution_count": 5,
   "metadata": {},
   "outputs": [
    {
     "name": "stdout",
     "output_type": "stream",
     "text": [
      "banana\n"
     ]
    }
   ],
   "source": [
    "# Write a program that creates a list of strings and then finds the longest string in the list. Print the longest string.\n",
    "\n",
    "l = [\"apple\", \"banana\", \"cherry\", \"grape\", \"orange\", \"peach\", \"plum\"]\n",
    "res = max(l,key=len)\n",
    "print(res)"
   ]
  },
  {
   "cell_type": "code",
   "execution_count": 9,
   "metadata": {},
   "outputs": [
    {
     "name": "stdout",
     "output_type": "stream",
     "text": [
      "0\n",
      "2\n",
      "2\n",
      "6\n",
      "6\n",
      "12\n",
      "12\n",
      "20\n",
      "20\n",
      "30\n"
     ]
    }
   ],
   "source": [
    "# Write a program that creates a list of integers and then finds the sum of all the even numbers in the list. Print the sum.\n",
    "\n",
    "l = [1,2,3,4,5,6,7,8,9,10]\n",
    "s = 0\n",
    "for i in l:\n",
    "    if i%2 == 0:\n",
    "        s += i\n",
    "    print(s)"
   ]
  },
  {
   "cell_type": "code",
   "execution_count": 15,
   "metadata": {},
   "outputs": [
    {
     "name": "stdout",
     "output_type": "stream",
     "text": [
      "the pos is : 2\n",
      "[1, 2, 6, 3, 7, 8, 5]\n"
     ]
    }
   ],
   "source": [
    "# Write a program that creates a list of integers and then asks the user to input a position to remove an element from the list. Print the final list.\n",
    "\n",
    "l = [1,2,4,6,3,7,8,5]\n",
    "u = int(input(\"enter a position :\"))\n",
    "l.pop(u)\n",
    "print (f'the pos is : {u}')\n",
    "print(l)"
   ]
  },
  {
   "cell_type": "code",
   "execution_count": 18,
   "metadata": {},
   "outputs": [
    {
     "name": "stdout",
     "output_type": "stream",
     "text": [
      "['Divyanshi', 'Srivastava', 'I', 'was', 'born', 'in', '2003']\n"
     ]
    }
   ],
   "source": [
    "# Write a program that creates a list of strings and then concatenates all the strings into a single string. Print the final string.\n",
    "\n",
    "s = ['Divyanshi','Srivastava']\n",
    "s2 = ['I','was','born','in','2003']\n",
    "s.extend(s2)\n",
    "print(s)"
   ]
  },
  {
   "cell_type": "code",
   "execution_count": null,
   "metadata": {},
   "outputs": [],
   "source": [
    "# Write a program that creates a list of integers and then finds the median value of the list. Print the median.4\n",
    "\n"
   ]
  }
 ],
 "metadata": {
  "kernelspec": {
   "display_name": "base",
   "language": "python",
   "name": "python3"
  },
  "language_info": {
   "codemirror_mode": {
    "name": "ipython",
    "version": 3
   },
   "file_extension": ".py",
   "mimetype": "text/x-python",
   "name": "python",
   "nbconvert_exporter": "python",
   "pygments_lexer": "ipython3",
   "version": "3.10.10"
  },
  "orig_nbformat": 4
 },
 "nbformat": 4,
 "nbformat_minor": 2
}
