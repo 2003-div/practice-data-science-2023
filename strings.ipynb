{
 "cells": [
  {
   "cell_type": "code",
   "execution_count": 2,
   "metadata": {},
   "outputs": [
    {
     "name": "stdout",
     "output_type": "stream",
     "text": [
      "Hello , Welcome to Divyanshi Project \n",
      "37\n"
     ]
    }
   ],
   "source": [
    "# Create a string and print it.\n",
    "\n",
    "s = 'Hello , Welcome to Divyanshi Project '\n",
    "print(s)\n",
    "print(len(s))"
   ]
  },
  {
   "cell_type": "code",
   "execution_count": 4,
   "metadata": {},
   "outputs": [
    {
     "name": "stdout",
     "output_type": "stream",
     "text": [
      "Hello , Welcome to Divyanshi Project of data science\n",
      "52\n"
     ]
    }
   ],
   "source": [
    "# Take a string input and print it's length.\n",
    "\n",
    "x = input(\"Enter your string : \")\n",
    "print(x)\n",
    "print(len(x))"
   ]
  },
  {
   "cell_type": "code",
   "execution_count": 4,
   "metadata": {},
   "outputs": [
    {
     "name": "stdout",
     "output_type": "stream",
     "text": [
      "great\n",
      " great\n",
      " great\n"
     ]
    }
   ],
   "source": [
    "# Print the last word of the string `Python is great` using slices.\n",
    "\n",
    "s = 'Python is great'\n",
    "print(s[-5:])\n",
    "print(s[9:])\n",
    "print(s[9:15])"
   ]
  },
  {
   "cell_type": "code",
   "execution_count": 3,
   "metadata": {},
   "outputs": [
    {
     "name": "stdout",
     "output_type": "stream",
     "text": [
      "python\n",
      "is\n",
      "everywhere\n"
     ]
    }
   ],
   "source": [
    "# Print the each word in different line of string `python is everywhere`.\n",
    "\n",
    "s = 'python is everywhere'\n",
    "for string in s.split():\n",
    "    print(string)\n"
   ]
  },
  {
   "cell_type": "code",
   "execution_count": 1,
   "metadata": {},
   "outputs": [
    {
     "name": "stdout",
     "output_type": "stream",
     "text": [
      "! dlroW olleH\n"
     ]
    }
   ],
   "source": [
    "# Print the string `Hello World!` in reverse.\n",
    "\n",
    "s = 'Hello World !'\n",
    "print(s[::-1])"
   ]
  },
  {
   "cell_type": "code",
   "execution_count": 4,
   "metadata": {},
   "outputs": [
    {
     "name": "stdout",
     "output_type": "stream",
     "text": [
      "HOW ARE YOU\n",
      "how is it going\n"
     ]
    }
   ],
   "source": [
    "# Convert the string `How are you?` in uppercase.\n",
    "\n",
    "s = 'How are you'\n",
    "print(s.upper())\n",
    "\n",
    "# Convert the string `How Is It Going?` in lowercase.\n",
    "\n",
    "s = 'How Is It Going'\n",
    "print(s.lower())"
   ]
  },
  {
   "cell_type": "code",
   "execution_count": 1,
   "metadata": {},
   "outputs": [
    {
     "name": "stdout",
     "output_type": "stream",
     "text": [
      "Python is easy to learn\n"
     ]
    }
   ],
   "source": [
    "# Join the following list by spaces(` `) and print the result.\n",
    "#   ```py\n",
    "#    words = ['Python', 'is', 'easy', 'to', 'learn']\n",
    "#    ```\n",
    "\n",
    "words = ['Python', 'is', 'easy', 'to', 'learn']\n",
    "print(\" \".join(words))"
   ]
  },
  {
   "cell_type": "code",
   "execution_count": 2,
   "metadata": {},
   "outputs": [
    {
     "name": "stdout",
     "output_type": "stream",
     "text": [
      " My heart leaps up when I behold\n",
      "A rainbow in the sky:\n",
      "So was it when my life began;\n",
      "So is it now I am a man …\n"
     ]
    }
   ],
   "source": [
    "# Print a multiline string using a single `print`\n",
    "\n",
    "s = ''' My heart leaps up when I behold\n",
    "A rainbow in the sky:\n",
    "So was it when my life began;\n",
    "So is it now I am a man …'''\n",
    "print(s)"
   ]
  },
  {
   "cell_type": "code",
   "execution_count": 9,
   "metadata": {},
   "outputs": [
    {
     "name": "stdout",
     "output_type": "stream",
     "text": [
      "to move to newline '\\n' is used.\n"
     ]
    }
   ],
   "source": [
    "# Print this string `to move to newline '\\n' is used.` (results should look exactly like the provided string)\n",
    "\n",
    "s = \"to move to newline '\\\\n' is used.\"\n",
    "print(s)"
   ]
  },
  {
   "cell_type": "code",
   "execution_count": 2,
   "metadata": {},
   "outputs": [
    {
     "name": "stdout",
     "output_type": "stream",
     "text": [
      "the variable is  52\n"
     ]
    }
   ],
   "source": [
    "# Print a variable with some text using a single print function, output should look like following.\n",
    "# ```\n",
    "# the variable is 15\n",
    "# ```\n",
    "\n",
    "s = \"My heart leaps up when I behold A rainbow in the sky\"\n",
    "print(\"the variable is \",len(s))"
   ]
  },
  {
   "cell_type": "code",
   "execution_count": 3,
   "metadata": {},
   "outputs": [
    {
     "name": "stdout",
     "output_type": "stream",
     "text": [
      "python is great.\n"
     ]
    }
   ],
   "source": [
    "#concatenate the following strings and print the result\n",
    "#    ```py\n",
    "#    s1 = 'python '\n",
    "#    s2 = 'is '\n",
    "#    s3 = 'great.'\n",
    "#    ```\n",
    "\n",
    "s1 = 'python '\n",
    "s2 = 'is '\n",
    "s3 = 'great.'\n",
    "print(s1+s2+s3)"
   ]
  },
  {
   "cell_type": "code",
   "execution_count": 5,
   "metadata": {},
   "outputs": [
    {
     "name": "stdout",
     "output_type": "stream",
     "text": [
      "####################\n"
     ]
    }
   ],
   "source": [
    "# Print `#` 20 times without using a loop\n",
    "\n",
    "print(\"#\" *20)"
   ]
  },
  {
   "cell_type": "code",
   "execution_count": 1,
   "metadata": {},
   "outputs": [
    {
     "name": "stdout",
     "output_type": "stream",
     "text": [
      "1.\n",
      "2.\n",
      "3.\n",
      "4.\n",
      "5.\n",
      "6.\n",
      "7.\n",
      "8.\n",
      "9.\n"
     ]
    }
   ],
   "source": [
    "#Print numbers from 1 to 9, each on a seperate line, followed by a dot, output should look like the following-\n",
    "# ```\n",
    "# 1.\n",
    "# 2.\n",
    "# 3.\n",
    "#``` \n",
    "\n",
    "for num in range(1,10):\n",
    "    print (f'{num}{\".\"}')\n"
   ]
  },
  {
   "cell_type": "code",
   "execution_count": 3,
   "metadata": {},
   "outputs": [
    {
     "name": "stdout",
     "output_type": "stream",
     "text": [
      "my\n",
      "name\n",
      "is\n",
      "divyanshi\n"
     ]
    }
   ],
   "source": [
    "# Ask user to input a sentence and print each word on a different line.\n",
    "\n",
    "s = input(\"enter a string \")\n",
    "for i in s.split():\n",
    "    print(f\"{i}\")\n",
    " "
   ]
  },
  {
   "cell_type": "code",
   "execution_count": 7,
   "metadata": {},
   "outputs": [
    {
     "name": "stdout",
     "output_type": "stream",
     "text": [
      "True\n",
      "is your name divyanshi ??\n"
     ]
    }
   ],
   "source": [
    "# Ask user to input a string and check if the string ends with '?'\n",
    "\n",
    "s = input(\"enter a string :\")\n",
    "print(s.endswith('?'))\n",
    "print(s)\n",
    "\n"
   ]
  },
  {
   "cell_type": "code",
   "execution_count": 2,
   "metadata": {},
   "outputs": [
    {
     "name": "stdout",
     "output_type": "stream",
     "text": [
      "the elephant was roming in the jungle 5\n"
     ]
    }
   ],
   "source": [
    "# Ask user to input a string and print how many times `e` appeared in the string\n",
    "\n",
    "s = input('enter your string : ')\n",
    "\n",
    "print(f'{s}{s.count(\"e\")}')"
   ]
  },
  {
   "cell_type": "code",
   "execution_count": 1,
   "metadata": {},
   "outputs": [
    {
     "name": "stdout",
     "output_type": "stream",
     "text": [
      "1235\n",
      "you entered a number\n"
     ]
    }
   ],
   "source": [
    "# Check if the user input is a number\n",
    "\n",
    "s = input(\"enter your string :\")\n",
    "print(s)\n",
    "if s.isnumeric():\n",
    "    print(\"you entered a number\")\n",
    "    "
   ]
  },
  {
   "cell_type": "code",
   "execution_count": 3,
   "metadata": {},
   "outputs": [
    {
     "name": "stdout",
     "output_type": "stream",
     "text": [
      "   this is not a good string           \n",
      "this is not a good string\n"
     ]
    }
   ],
   "source": [
    "# Remove the extra spaces in beginning and in the end of the following string-\n",
    "#   ```py\n",
    "#    text = '   this is not a good string           '\n",
    "#    ```\n",
    "\n",
    "text = '   this is not a good string           '\n",
    "print(text)\n",
    "print(text.strip())"
   ]
  },
  {
   "cell_type": "code",
   "execution_count": 2,
   "metadata": {},
   "outputs": [
    {
     "name": "stdout",
     "output_type": "stream",
     "text": [
      "t\n",
      "h\n",
      "i\n",
      "s\n",
      " \n",
      "i\n",
      "s\n",
      " \n",
      "n\n",
      "o\n",
      "t\n",
      " \n",
      "a\n",
      " \n",
      "found\n"
     ]
    }
   ],
   "source": [
    "#  Ask user to input string, print `found` if any of the character is upper case.\n",
    "\n",
    "text = 'this is not a Good string'\n",
    "for i in text:\n",
    "    if i.isupper():\n",
    "       print('found')\n",
    "       break\n",
    "    else:\n",
    "        print(i)"
   ]
  },
  {
   "cell_type": "code",
   "execution_count": 5,
   "metadata": {},
   "outputs": [
    {
     "name": "stdout",
     "output_type": "stream",
     "text": [
      "['Joe', ' David', ' Mark', ' Tom', ' Chris', ' Robert']\n"
     ]
    }
   ],
   "source": [
    "#  Extract names from the following string and store them in a list.\n",
    "#   ```py\n",
    "#    names = 'Joe, David, Mark, Tom, Chris, Robert'\n",
    "#    ```\n",
    "\n",
    "names = 'Joe, David, Mark, Tom, Chris, Robert'\n",
    "x = list(names.split(\",\"))\n",
    "print(x)\n"
   ]
  },
  {
   "cell_type": "code",
   "execution_count": 1,
   "metadata": {},
   "outputs": [],
   "source": [
    "# In the following string, add `aye` in the end of every word and print the results.\n",
    "#    ```py\n",
    "#    text = 'this is some text'\n",
    "#    ```\n",
    "\n",
    "text = 'this is some text'\n",
    "x = text.split(\" \")\n"
   ]
  },
  {
   "cell_type": "code",
   "execution_count": 2,
   "metadata": {},
   "outputs": [],
   "source": [
    "# ask user to enter a string and check if the string contains `fyi`\n",
    "\n",
    "s = input(\"enter a string\")\n",
    "for i  in s :\n",
    "    if i.endswith('fyi'):\n",
    "        print(\"word found\",i )"
   ]
  },
  {
   "cell_type": "code",
   "execution_count": 4,
   "metadata": {},
   "outputs": [
    {
     "name": "stdout",
     "output_type": "stream",
     "text": [
      "datagy  is great\n"
     ]
    }
   ],
   "source": [
    "# Remove all the special characters and numbers from the following string\n",
    "#    ```py\n",
    "#    text = '%p34@y!*-*!t68h#&on404'\n",
    "#    ```\n",
    "import re\n",
    "text = 'datagy -- is. great!'\n",
    "new_text = ''\n",
    "\n",
    "for character in text:\n",
    "    if character.isalnum():\n",
    "        new_text += character\n",
    "\n",
    "#print(new_text)\n",
    "\n",
    "# method 2\n",
    "\n",
    "text = 'datagy -- is. great!'\n",
    "new_text = re.sub(r\"[^a-zA-Z0-9 ]\", \"\", text)\n",
    "\n",
    "print(new_text)"
   ]
  },
  {
   "cell_type": "code",
   "execution_count": 2,
   "metadata": {},
   "outputs": [
    {
     "name": "stdout",
     "output_type": "stream",
     "text": [
      "2.6\n"
     ]
    }
   ],
   "source": [
    "# calculate the average word length of the following paragraph.\n",
    "#    ```\n",
    "#    this is a paragraph which is written just for the purpose of providing content to let the average word length be calculated\n",
    "#    ```\n",
    "\n",
    "sentence = \"Hi my name is Bob\"\n",
    "words = sentence.split()\n",
    "average = sum(len(word) for word in words) / len(words)\n",
    "print(average)\n"
   ]
  },
  {
   "cell_type": "code",
   "execution_count": null,
   "metadata": {},
   "outputs": [],
   "source": []
  }
 ],
 "metadata": {
  "kernelspec": {
   "display_name": "base",
   "language": "python",
   "name": "python3"
  },
  "language_info": {
   "codemirror_mode": {
    "name": "ipython",
    "version": 3
   },
   "file_extension": ".py",
   "mimetype": "text/x-python",
   "name": "python",
   "nbconvert_exporter": "python",
   "pygments_lexer": "ipython3",
   "version": "3.10.10"
  },
  "orig_nbformat": 4
 },
 "nbformat": 4,
 "nbformat_minor": 2
}
