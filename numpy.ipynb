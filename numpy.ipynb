{
 "cells": [
  {
   "cell_type": "code",
   "execution_count": 1,
   "metadata": {},
   "outputs": [
    {
     "name": "stdout",
     "output_type": "stream",
     "text": [
      "[0. 0. 0. 0. 0. 0. 0. 0. 0.]\n"
     ]
    }
   ],
   "source": [
    "# Write a NumPy program to create an array of 10 zeros.\n",
    "import numpy as np\n",
    "arr = np.zeros(9)\n",
    "print(arr)"
   ]
  },
  {
   "cell_type": "code",
   "execution_count": 2,
   "metadata": {},
   "outputs": [
    {
     "name": "stdout",
     "output_type": "stream",
     "text": [
      "[1. 1. 1. 1. 1. 1. 1. 1. 1.]\n"
     ]
    }
   ],
   "source": [
    "# Write a NumPy program to create an array of 10 ones.\n",
    "arr =  np.ones(9)\n",
    "print(arr)"
   ]
  },
  {
   "cell_type": "code",
   "execution_count": 8,
   "metadata": {},
   "outputs": [
    {
     "name": "stdout",
     "output_type": "stream",
     "text": [
      "[[0 1 2]\n",
      " [3 4 5]\n",
      " [6 7 8]]\n"
     ]
    }
   ],
   "source": [
    "# Write a NumPy program to create a 3x3 matrix with values ranging from 0 to 8\n",
    "import numpy as np\n",
    "a = np.arange(0,9).reshape(3,3)\n",
    "print(a)"
   ]
  },
  {
   "cell_type": "code",
   "execution_count": 7,
   "metadata": {},
   "outputs": [
    {
     "data": {
      "text/plain": [
       "array([[0, 1, 2],\n",
       "       [3, 4, 5],\n",
       "       [6, 7, 8]])"
      ]
     },
     "execution_count": 7,
     "metadata": {},
     "output_type": "execute_result"
    }
   ],
   "source": [
    "\n",
    "np.array(([0,1,2],[3,4,5],[6,7,8]))"
   ]
  },
  {
   "cell_type": "code",
   "execution_count": 9,
   "metadata": {},
   "outputs": [
    {
     "name": "stdout",
     "output_type": "stream",
     "text": [
      "[[8 7 6]\n",
      " [5 4 3]\n",
      " [2 1 0]]\n"
     ]
    }
   ],
   "source": [
    "# Write a NumPy program to reverse an array (first element becomes the last)\n",
    "a = np.array(([0,1,2],[3,4,5],[6,7,8]))\n",
    "res = np.flip(a)\n",
    "print(res)"
   ]
  },
  {
   "cell_type": "code",
   "execution_count": 11,
   "metadata": {},
   "outputs": [
    {
     "data": {
      "text/plain": [
       "array([1, 3, 5, 7])"
      ]
     },
     "execution_count": 11,
     "metadata": {},
     "output_type": "execute_result"
    }
   ],
   "source": [
    "# Write a NumPy program to extract all odd numbers from an array.\n",
    "a = np.array(([0,1,2],[3,4,5],[6,7,8]))\n",
    "a[a%2==1]"
   ]
  },
  {
   "cell_type": "code",
   "execution_count": 12,
   "metadata": {},
   "outputs": [
    {
     "ename": "ValueError",
     "evalue": "The truth value of an array with more than one element is ambiguous. Use a.any() or a.all()",
     "output_type": "error",
     "traceback": [
      "\u001b[1;31m---------------------------------------------------------------------------\u001b[0m",
      "\u001b[1;31mValueError\u001b[0m                                Traceback (most recent call last)",
      "Cell \u001b[1;32mIn[12], line 2\u001b[0m\n\u001b[0;32m      1\u001b[0m a \u001b[39m=\u001b[39m np\u001b[39m.\u001b[39marray(([\u001b[39m0\u001b[39m,\u001b[39m1\u001b[39m,\u001b[39m2\u001b[39m],[\u001b[39m3\u001b[39m,\u001b[39m4\u001b[39m,\u001b[39m5\u001b[39m],[\u001b[39m6\u001b[39m,\u001b[39m7\u001b[39m,\u001b[39m8\u001b[39m]))\n\u001b[1;32m----> 2\u001b[0m \u001b[39mif\u001b[39;00m a\u001b[39m%\u001b[39;49m\u001b[39m2\u001b[39;49m\u001b[39m==\u001b[39;49m\u001b[39m1\u001b[39;49m:\n\u001b[0;32m      3\u001b[0m     \u001b[39mprint\u001b[39m(a)\n",
      "\u001b[1;31mValueError\u001b[0m: The truth value of an array with more than one element is ambiguous. Use a.any() or a.all()"
     ]
    }
   ],
   "source": [
    "a = np.array(([0,1,2],[3,4,5],[6,7,8]))\n",
    "if a%2==1:\n",
    "    print(a)"
   ]
  },
  {
   "cell_type": "code",
   "execution_count": 3,
   "metadata": {},
   "outputs": [
    {
     "name": "stdout",
     "output_type": "stream",
     "text": [
      "the x array are \n",
      "[[ 6  6  2  6]\n",
      " [ 7  8  1  3]\n",
      " [ 8  9  8  7]\n",
      " [ 6  5 10  8]]\n",
      "the y array are \n",
      "[[ 6  8  3  1]\n",
      " [ 2  7  9  9]\n",
      " [ 5  9 10  6]\n",
      " [ 4  8  1  1]]\n",
      "--------------------\n",
      "the sum of array is : \n",
      "[[12 14  5  7]\n",
      " [ 9 15 10 12]\n",
      " [13 18 18 13]\n",
      " [10 13 11  9]]\n",
      "the multiplication of array is : \n",
      " [[36 48  6  6]\n",
      " [14 56  9 27]\n",
      " [40 81 80 42]\n",
      " [24 40 10  8]]\n"
     ]
    }
   ],
   "source": [
    "# Write a NumPy program to compute the sum of all elements, mean, and standard deviation of a given array.\n",
    "import numpy as np\n",
    "x = np.random.randint(1,11,(4,4))\n",
    "y = np.random.randint(1,11,(4,4))\n",
    "print(f'the x array are \\n{x}')\n",
    "print(f'the y array are \\n{y}')\n",
    "print('-'*20)\n",
    "print(f'the sum of array is : \\n{x+y}')\n",
    "print(f'the multiplication of array is : \\n {x*y}')\n"
   ]
  },
  {
   "cell_type": "code",
   "execution_count": 18,
   "metadata": {},
   "outputs": [
    {
     "name": "stdout",
     "output_type": "stream",
     "text": [
      "[[10 10 10  6  4]\n",
      " [ 3  9  8  1  5]\n",
      " [ 8  5  5  4  5]\n",
      " [ 0  9  5  3  9]\n",
      " [ 3  8  3  1  7]]\n",
      "the maximum value is:- 10\n",
      "the minimum value is:- 1\n"
     ]
    }
   ],
   "source": [
    "# Write a NumPy program to create a 5x5 matrix with random values and find the minimum and maximum values.\n",
    "b = np.random.randint(0,11,(5,5))\n",
    "print(b)\n",
    "bmin ,bmax = x.min() , x.max()\n",
    "print(f'the maximum value is:- {bmax}')\n",
    "print(f'the minimum value is:- {bmin}')"
   ]
  },
  {
   "cell_type": "code",
   "execution_count": 2,
   "metadata": {},
   "outputs": [
    {
     "name": "stdout",
     "output_type": "stream",
     "text": [
      "[[[1 0 1]\n",
      "  [1 0 1]]\n",
      "\n",
      " [[1 0 1]\n",
      "  [1 0 1]]]\n"
     ]
    }
   ],
   "source": [
    "# Write a NumPy program to create a 2D array with 1 on the border and 0 inside.\n",
    "import numpy as np\n",
    "x = np.array(([[1,0,1],[1,0,1]],[[1,0,1],[1,0,1]]))\n",
    "print(x)"
   ]
  },
  {
   "cell_type": "code",
   "execution_count": 4,
   "metadata": {},
   "outputs": [
    {
     "name": "stdout",
     "output_type": "stream",
     "text": [
      "[3 4 5 6]\n"
     ]
    }
   ],
   "source": [
    "# Write a NumPy program to find the unique elements of an array\n",
    "import numpy as np\n",
    "arr = np.array([3,3,4,5,6,5,6,4])\n",
    "res = np.unique(arr)\n",
    "print(res)"
   ]
  },
  {
   "cell_type": "code",
   "execution_count": 8,
   "metadata": {},
   "outputs": [
    {
     "name": "stdout",
     "output_type": "stream",
     "text": [
      "[1 3 5 7 3 5 7 3]\n",
      "[1 3 5 7]\n"
     ]
    }
   ],
   "source": [
    "# Write a NumPy program to extract the elements in the odd-numbered columns of a 2D array.\n",
    "\n",
    "import numpy as np\n",
    "x = np.array(([[1,2,3],[5,2,6]],[[7,3,5],[7,4,3]]))\n",
    "a = x[x%2==1]\n",
    "print(a)\n",
    "r = np.unique(a)\n",
    "print(r)"
   ]
  },
  {
   "cell_type": "code",
   "execution_count": 9,
   "metadata": {},
   "outputs": [
    {
     "name": "stdout",
     "output_type": "stream",
     "text": [
      "[2 2 6 4]\n",
      "[2 4 6]\n"
     ]
    }
   ],
   "source": [
    "# Write a NumPy program to extract the elements in the even-numbered rows of a 2D array.\n",
    "import numpy as np\n",
    "x = np.array(([[1,2,3],[5,2,6]],[[7,3,5],[7,4,3]]))\n",
    "a = x[x%2==0]\n",
    "print(a)\n",
    "r = np.unique(a)\n",
    "print(r)"
   ]
  },
  {
   "cell_type": "code",
   "execution_count": null,
   "metadata": {},
   "outputs": [],
   "source": [
    "# Write a NumPy program to extract a subarray from a given array. The subarray should include the first 3 rows and the columns from index 1 to 4 (inclusive).\n",
    "\n"
   ]
  },
  {
   "cell_type": "code",
   "execution_count": 11,
   "metadata": {},
   "outputs": [
    {
     "name": "stdout",
     "output_type": "stream",
     "text": [
      "[[[3 4 7]\n",
      "  [5 3 7]]\n",
      "\n",
      " [[6 2 5]\n",
      "  [3 2 1]]]\n"
     ]
    }
   ],
   "source": [
    "# Write a NumPy program to reverse the order of elements in each column of a 2D array.\n",
    "x = np.array(([[1,2,3],[5,2,6]],[[7,3,5],[7,4,3]]))\n",
    "a = np.flip(x)\n",
    "print(a)"
   ]
  },
  {
   "cell_type": "code",
   "execution_count": 14,
   "metadata": {},
   "outputs": [
    {
     "name": "stdout",
     "output_type": "stream",
     "text": [
      "the initial array is :- \n",
      "[[[1 1 1 2]\n",
      "  [2 2 2 3]\n",
      "  [3 3 3 4]]\n",
      "\n",
      " [[1 1 1 2]\n",
      "  [2 2 2 3]\n",
      "  [3 3 3 4]]]\n",
      "the reversed array is :- \n",
      "[[[2. 1. 1. 1.]\n",
      "  [3. 2. 2. 2.]\n",
      "  [4. 3. 3. 3.]]\n",
      "\n",
      " [[2. 1. 1. 1.]\n",
      "  [3. 2. 2. 2.]\n",
      "  [4. 3. 3. 3.]]]\n"
     ]
    }
   ],
   "source": [
    "import numpy as np\n",
    "initial_array = np.array([[[1, 1, 1, 2],[2, 2, 2, 3],[3, 3, 3, 4]],[[1, 1, 1, 2],[2, 2, 2, 3],[3, 3, 3, 4]]])\n",
    "index=0\n",
    "initial_shape = initial_array.shape\n",
    "reversed=np.empty(shape=initial_shape)\n",
    "for inner_array in initial_array:\n",
    "    reversed[index] = np.fliplr(inner_array)\n",
    "    index += 1\n",
    "print(f'the initial array is :- \\n{initial_array}')\n",
    "print(f'the reversed array is :- \\n{reversed}')"
   ]
  },
  {
   "cell_type": "code",
   "execution_count": 5,
   "metadata": {},
   "outputs": [
    {
     "name": "stdout",
     "output_type": "stream",
     "text": [
      "[[1 0 0 0]\n",
      " [0 2 0 0]\n",
      " [0 0 3 0]\n",
      " [0 0 0 4]]\n",
      "[[0 1 0 0 0]\n",
      " [0 0 2 0 0]\n",
      " [0 0 0 3 0]\n",
      " [0 0 0 0 4]\n",
      " [0 0 0 0 0]]\n",
      "[[0 0 0 0 0]\n",
      " [1 0 0 0 0]\n",
      " [0 2 0 0 0]\n",
      " [0 0 3 0 0]\n",
      " [0 0 0 4 0]]\n",
      "[[0 0 0 0 0 0]\n",
      " [0 0 0 0 0 0]\n",
      " [1 0 0 0 0 0]\n",
      " [0 2 0 0 0 0]\n",
      " [0 0 3 0 0 0]\n",
      " [0 0 0 4 0 0]]\n"
     ]
    }
   ],
   "source": [
    "# Write a NumPy program to create a diagonal matrix from a given 1D array. The elements below the diagonal should be zero, and the elements above the diagonal should be squared\n",
    "\n",
    "# create a diagonal matrix with the diagonal elements as 0\n",
    "import numpy as np\n",
    "matrix = np.diag([1, 2, 3, 4], k=0)\n",
    "print(matrix)\n",
    "# create a diagonal matrix with the diagonal elements as 1\n",
    "matrix = np.diag([1, 2, 3, 4], k=1)\n",
    "print(matrix)\n",
    "atrix = np.diag([1, 2, 3, 4], k=-1)\n",
    "print(atrix)\n",
    "matrix = np.diag([1, 2, 3, 4], k=-2)\n",
    "print(matrix)"
   ]
  },
  {
   "cell_type": "code",
   "execution_count": 11,
   "metadata": {},
   "outputs": [
    {
     "name": "stdout",
     "output_type": "stream",
     "text": [
      "[[1 0 0 0 0 0 0]\n",
      " [0 4 0 0 0 0 0]\n",
      " [0 0 9 0 0 0 0]\n",
      " [0 0 0 0 0 0 0]\n",
      " [0 0 0 0 1 0 0]\n",
      " [0 0 0 0 0 2 0]\n",
      " [0 0 0 0 0 0 3]]\n"
     ]
    }
   ],
   "source": [
    "# Write a NumPy program to create a diagonal matrix from a given 1D array. The elements below the diagonal should be zero, and the elements above the diagonal should be squared\n",
    "import numpy as np\n",
    "matrix = np.diag([1,4,9,0,1,2,3])\n",
    "print(matrix)"
   ]
  },
  {
   "cell_type": "code",
   "execution_count": null,
   "metadata": {},
   "outputs": [],
   "source": []
  }
 ],
 "metadata": {
  "kernelspec": {
   "display_name": "base",
   "language": "python",
   "name": "python3"
  },
  "language_info": {
   "codemirror_mode": {
    "name": "ipython",
    "version": 3
   },
   "file_extension": ".py",
   "mimetype": "text/x-python",
   "name": "python",
   "nbconvert_exporter": "python",
   "pygments_lexer": "ipython3",
   "version": "3.10.10"
  },
  "orig_nbformat": 4
 },
 "nbformat": 4,
 "nbformat_minor": 2
}
