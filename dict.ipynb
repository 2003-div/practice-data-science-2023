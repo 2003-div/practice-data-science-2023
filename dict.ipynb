{
 "cells": [
  {
   "cell_type": "code",
   "execution_count": 1,
   "metadata": {},
   "outputs": [
    {
     "name": "stdout",
     "output_type": "stream",
     "text": [
      "{'H': 1, 'e': 1, 'l': 2, 'o': 1}\n"
     ]
    }
   ],
   "source": [
    "# 1. Write a program to count the frequency of each character in a given string using a dictionary.\n",
    "# Sample data: \"hello\"\n",
    "# Hint: Iterate through each character in the string and update the count in the dictionary.\n",
    "data = 'Hello'\n",
    "freq = {}\n",
    "for i in data:\n",
    "    if i in freq:\n",
    "        freq[i] += 1\n",
    "    else:\n",
    "        freq[i] = 1\n",
    "print(freq)    \n"
   ]
  },
  {
   "cell_type": "code",
   "execution_count": 2,
   "metadata": {},
   "outputs": [
    {
     "name": "stdout",
     "output_type": "stream",
     "text": [
      "{'a': 1, 'b': 2, 'c': 3, 'd': 4}\n"
     ]
    }
   ],
   "source": [
    "# Write a program to merge two dictionaries into a single dictionary.\n",
    "\n",
    "#Sample data:\n",
    "#dict1 = {\"a\": 1, \"b\": 2}\n",
    "#dict2 = {\"c\": 3, \"d\": 4}\n",
    "# Hint: Use the update() method to merge the dictionaries.\n",
    "\n",
    "dict1 = {\"a\": 1, \"b\": 2}\n",
    "dict2 = {\"c\": 3, \"d\": 4}\n",
    "dict1.update(dict2)\n",
    "print(dict1)\n"
   ]
  },
  {
   "cell_type": "code",
   "execution_count": 5,
   "metadata": {},
   "outputs": [
    {
     "name": "stdout",
     "output_type": "stream",
     "text": [
      "c\n"
     ]
    }
   ],
   "source": [
    "# Write a program to find the keys with the maximum value in a dictionary.\n",
    "\n",
    "#Sample data: {\"a\": 10, \"b\": 5, \"c\": 10}\n",
    "# Hint: Use the max() function with a custom key argument to find the maximum value.\n",
    "data = {\"a\": 10, \"b\": 5, \"c\": 10}\n",
    "max_value = max(data)\n",
    "print(max_value)"
   ]
  },
  {
   "cell_type": "code",
   "execution_count": 3,
   "metadata": {},
   "outputs": [
    {
     "name": "stdout",
     "output_type": "stream",
     "text": [
      "\n",
      " key exists\n",
      "key =  a and value =  1\n"
     ]
    }
   ],
   "source": [
    "#Write a program to check if a given key exists in a dictionary.\n",
    "\n",
    "#Sample data: {\"a\": 1, \"b\": 2, \"c\": 3}\n",
    "#Hint: Use the in operator to check for key existence.\n",
    "\n",
    "data = {\"a\": 1, \"b\": 2, \"c\": 3}\n",
    "key = input('enter the key :')\n",
    "if key in data.keys():\n",
    "    print(\"\\n key exists\")\n",
    "    print('key = ',key,'and value = ',data[key])\n",
    "else:\n",
    "    print('\\n does not exist')"
   ]
  },
  {
   "cell_type": "code",
   "execution_count": 5,
   "metadata": {},
   "outputs": [
    {
     "name": "stdout",
     "output_type": "stream",
     "text": [
      "1\n",
      "{'b': 2, 'c': 3}\n"
     ]
    }
   ],
   "source": [
    "# Write a program to remove a specific key from a dictionary.\n",
    "\n",
    "#Sample data: {\"a\": 1, \"b\": 2, \"c\": 3}\n",
    "#Hint: Use the pop() method to remove the key.\n",
    "\n",
    "data= {\"a\": 1, \"b\": 2, \"c\": 3}\n",
    "x = data.pop('a')\n",
    "print(x)\n",
    "print(data)"
   ]
  },
  {
   "cell_type": "code",
   "execution_count": 7,
   "metadata": {},
   "outputs": [
    {
     "name": "stdout",
     "output_type": "stream",
     "text": [
      "b c "
     ]
    }
   ],
   "source": [
    "#Write a program to find the common keys in two dictionaries.\n",
    "\n",
    "#Sample data:\n",
    "#dict1 = {\"a\": 1, \"b\": 2, \"c\": 3}\n",
    "#dict2 = {\"b\": 3, \"c\": 4, \"d\": 5}\n",
    "#Hint: Use the keys() method to get the keys and compare them.\n",
    "\n",
    "dict1 = {\"a\": 1, \"b\": 2, \"c\": 3}\n",
    "dict2 = {\"b\": 3, \"c\": 4, \"d\": 5}\n",
    "for key in dict1:\n",
    "    if key in dict2:\n",
    "        print(key,end=' ')"
   ]
  },
  {
   "cell_type": "code",
   "execution_count": 1,
   "metadata": {},
   "outputs": [
    {
     "name": "stdout",
     "output_type": "stream",
     "text": [
      "3\n"
     ]
    }
   ],
   "source": [
    "# Write a program to get the length of a dictionary.\n",
    "\n",
    "#Sample data: {\"a\": 1, \"b\": 2, \"c\": 3}\n",
    "#Hint: Use the len() function to calculate the length.\n",
    "\n",
    "data = {\"a\": 1, \"b\": 2, \"c\": 3}\n",
    "print(len(data))"
   ]
  },
  {
   "cell_type": "code",
   "execution_count": 2,
   "metadata": {},
   "outputs": [
    {
     "name": "stdout",
     "output_type": "stream",
     "text": [
      "['a', 'b', 'c']\n"
     ]
    }
   ],
   "source": [
    "#Write a program to sort a dictionary by its keys in ascending order.\n",
    "\n",
    "#Sample data: {\"b\": 2, \"a\": 1, \"c\": 3}\n",
    "#Hint: Use the sorted() function with a custom key argument to sort the dictionary.\n",
    "\n",
    "data = {\"b\": 2, \"a\": 1, \"c\": 3}\n",
    "print(sorted(data))\n"
   ]
  },
  {
   "cell_type": "code",
   "execution_count": 5,
   "metadata": {},
   "outputs": [
    {
     "name": "stdout",
     "output_type": "stream",
     "text": [
      "a\n"
     ]
    }
   ],
   "source": [
    "#Write a program to find the key with the minimum value in a dictionary.\n",
    "\n",
    "#Sample data: {\"a\": 10, \"b\": 5, \"c\": 15}\n",
    "#Hint: Use the min() function with a custom key argument to find the minimum value.\n",
    "\n",
    "data = {\"a\": 10, \"b\": 5, \"c\": 15}\n",
    "min_value = min(data)\n",
    "print(min_value)"
   ]
  },
  {
   "cell_type": "code",
   "execution_count": 7,
   "metadata": {},
   "outputs": [
    {
     "name": "stdout",
     "output_type": "stream",
     "text": [
      "[1, 2, 3]\n"
     ]
    }
   ],
   "source": [
    "#Write a program to get the values of a dictionary as a list.\n",
    "\n",
    "#Sample data: {\"a\": 1, \"b\": 2, \"c\": 3}\n",
    "#Hint: Use the values() method to get the values and convert them into a list.\n",
    "\n",
    "data = {\"a\": 1, \"b\": 2, \"c\": 3}\n",
    "l = list(data.values())\n",
    "print(l)"
   ]
  },
  {
   "cell_type": "code",
   "execution_count": 5,
   "metadata": {},
   "outputs": [
    {
     "data": {
      "text/plain": [
       "True"
      ]
     },
     "execution_count": 5,
     "metadata": {},
     "output_type": "execute_result"
    }
   ],
   "source": [
    "# Write a program to check if a given value exists in a dictionary.\n",
    "\n",
    "# Sample data: {\"a\": 1, \"b\": 2, \"c\": 3}\n",
    "# Hint: Use the values()method and then in operator to check for value existence.\n",
    "\n",
    "data = {\"a\": 1, \"b\": 2, \"c\": 3}\n",
    "d = {}\n",
    "1 in data.values()\n",
    "    "
   ]
  },
  {
   "cell_type": "code",
   "execution_count": 5,
   "metadata": {},
   "outputs": [
    {
     "name": "stdout",
     "output_type": "stream",
     "text": [
      "{1: 1, 2: 4, 3: 9, 4: 16, 5: 25, 6: 36, 7: 49, 8: 64, 9: 81, 10: 100}\n"
     ]
    }
   ],
   "source": [
    "#Write a program to create a dictionary with keys as numbers from 1 to 10 and their squares as values.\n",
    "\n",
    "#Sample data: \n",
    "#keys: [1, 2, 3, ..., 10]\n",
    "#values: [1, 4, 9, ..., 100]\n",
    "#Hint: Use a for loop and the dictionary's indexing to create the dictionary.\n",
    "\n",
    "n = 10\n",
    "k = {}\n",
    "for i in range (1,11):\n",
    "    k[i] = i*i \n",
    "print(k)"
   ]
  },
  {
   "cell_type": "code",
   "execution_count": 8,
   "metadata": {},
   "outputs": [
    {
     "name": "stdout",
     "output_type": "stream",
     "text": [
      "{'d'}\n"
     ]
    }
   ],
   "source": [
    "# Write a program to find the difference between two dictionaries.\n",
    "\n",
    "# Sample data:\n",
    "# dict1 = {\"a\": 1, \"b\": 2, \"c\": 3}\n",
    "# dict2 = {\"b\": 2, \"c\": 3, \"d\": 4}\n",
    "# Hint: Use the keys() and items() methods to find the difference between the dictionaries.\n",
    "\n",
    "dict1 = {\"a\": 1, \"b\": 2, \"c\": 3}\n",
    "dict2 = {\"b\": 2, \"c\": 3, \"d\": 4}\n",
    "value = dict2.keys() - dict1.keys()\n",
    "print(value)"
   ]
  },
  {
   "cell_type": "code",
   "execution_count": 9,
   "metadata": {},
   "outputs": [
    {
     "name": "stdout",
     "output_type": "stream",
     "text": [
      "None\n"
     ]
    }
   ],
   "source": [
    "#Write a program to remove all the items from a dictionary.\n",
    "\n",
    "#Sample data: {\"a\": 1, \"b\": 2, \"c\": 3}\n",
    "#Hint: Use the clear() method to remove all items from the dictionary.\n",
    "\n",
    "data = {\"a\": 1, \"b\": 2, \"c\": 3}\n",
    "print(data.clear())"
   ]
  },
  {
   "cell_type": "code",
   "execution_count": 1,
   "metadata": {},
   "outputs": [
    {
     "name": "stdout",
     "output_type": "stream",
     "text": [
      "[('a', 1), ('b', 2), ('c', 3)]\n"
     ]
    }
   ],
   "source": [
    "# Write a program to convert a dictionary into a list of tuples.\n",
    "\n",
    "# Sample data: {\"a\": 1, \"b\": 2, \"c\": 3}\n",
    "# Hint: Use the items() method to convert the dictionary into a list of tuples.\n",
    "\n",
    "data = {\"a\": 1, \"b\": 2, \"c\": 3}\n",
    "\n",
    "print(list(data.items()))"
   ]
  },
  {
   "cell_type": "code",
   "execution_count": 4,
   "metadata": {},
   "outputs": [
    {
     "name": "stdout",
     "output_type": "stream",
     "text": [
      "no duplicates\n"
     ]
    }
   ],
   "source": [
    "# Write a program to check if all the values in a dictionary are unique.\n",
    "# Sample data: {\"a\": 1, \"b\": 2, \"c\": 3}\n",
    "\n",
    "# Hint: Convert the dictionary values into a set and compare the lengths.\n",
    "\n",
    "data = {\"a\": 1, \"b\": 2, \"c\": 3}\n",
    "x = set(data.items())\n",
    "if  len(x) == len(data):\n",
    "    print(\"no duplicates\")\n",
    "else:\n",
    "    print(\"duplicacy\")\n"
   ]
  },
  {
   "cell_type": "code",
   "execution_count": 5,
   "metadata": {},
   "outputs": [
    {
     "name": "stdout",
     "output_type": "stream",
     "text": [
      "a 1\n",
      "b {'c': 2, 'd': 3}\n",
      "e 4\n"
     ]
    }
   ],
   "source": [
    "# Write a program to extract all the values from nested dictionaries into a single list.\n",
    "\n",
    "# Sample data: {\"a\": 1, \"b\": {\"c\": 2, \"d\": 3}, \"e\": 4}\n",
    "# Hint: Use recursion to iterate through the nested dictionaries and extract the values.\n",
    "\n",
    "data = {\"a\": 1, \"b\": {\"c\": 2, \"d\": 3}, \"e\": 4}\n",
    "for  k,v in data.items():\n",
    "                print(k,v)"
   ]
  },
  {
   "cell_type": "code",
   "execution_count": 1,
   "metadata": {},
   "outputs": [
    {
     "ename": "TypeError",
     "evalue": "'int' object is not iterable",
     "output_type": "error",
     "traceback": [
      "\u001b[1;31m---------------------------------------------------------------------------\u001b[0m",
      "\u001b[1;31mTypeError\u001b[0m                                 Traceback (most recent call last)",
      "Cell \u001b[1;32mIn[1], line 7\u001b[0m\n\u001b[0;32m      5\u001b[0m data \u001b[39m=\u001b[39m {\u001b[39m\"\u001b[39m\u001b[39ma\u001b[39m\u001b[39m\"\u001b[39m: \u001b[39m10\u001b[39m, \u001b[39m\"\u001b[39m\u001b[39mb\u001b[39m\u001b[39m\"\u001b[39m: \u001b[39m5\u001b[39m, \u001b[39m\"\u001b[39m\u001b[39mc\u001b[39m\u001b[39m\"\u001b[39m: \u001b[39m10\u001b[39m}\n\u001b[0;32m      6\u001b[0m \u001b[39mfor\u001b[39;00m k,v \u001b[39min\u001b[39;00m data\u001b[39m.\u001b[39mitems() :\n\u001b[1;32m----> 7\u001b[0m     max_value \u001b[39m=\u001b[39m  \u001b[39mmax\u001b[39;49m(v)\n\u001b[0;32m      8\u001b[0m     \u001b[39mprint\u001b[39m(max_value)\n",
      "\u001b[1;31mTypeError\u001b[0m: 'int' object is not iterable"
     ]
    }
   ],
   "source": [
    "#  ****** Write a program to find the key-value pairs that have the highest values in a dictionary.\n",
    "\n",
    "# Sample data: {\"a\": 10, \"b\": 5, \"c\": 10}\n",
    "# Hint: Use the items() method and the max() function with a custom key argument to find the highest values.\n",
    "data = {\"a\": 10, \"b\": 5, \"c\": 10}\n",
    "m =0 \n",
    "for k,v in data.items() :\n",
    "    max_value =  max(v)\n",
    "    print(max_value)"
   ]
  },
  {
   "cell_type": "code",
   "execution_count": 14,
   "metadata": {},
   "outputs": [
    {
     "name": "stdout",
     "output_type": "stream",
     "text": [
      "{'a': 1, 'b': 2, 'c': 3}\n"
     ]
    }
   ],
   "source": [
    "# Write a program to create a dictionary from two lists, one containing keys and the other containing values.\n",
    "\n",
    "# Sample data:\n",
    "\n",
    "# keys = [\"a\", \"b\", \"c\"]\n",
    "# values = [1, 2, 3]\n",
    "# Hint: Use the zip() function to combine the two lists into key-value pairs.\n",
    "\n",
    "keys = [\"a\", \"b\", \"c\"]\n",
    "values = [1, 2, 3]   \n",
    "res = {}\n",
    "for k in keys:\n",
    "    for v in values:\n",
    "        res[k] = v\n",
    "        values.remove(v)\n",
    "        break\n",
    "print(res)\n",
    "\n"
   ]
  },
  {
   "cell_type": "code",
   "execution_count": 15,
   "metadata": {},
   "outputs": [
    {
     "name": "stdout",
     "output_type": "stream",
     "text": [
      "a 1\n",
      "b 2\n",
      "c 3\n"
     ]
    }
   ],
   "source": [
    "# Write a program to iterate over a dictionary and print the keys and values.\n",
    "\n",
    "# Sample data: {\"a\": 1, \"b\": 2, \"c\": 3}\n",
    "# Hint: Use a for loop and the items() method to iterate over the dictionary and print the keys and values.\n",
    "\n",
    "data = {\"a\": 1, \"b\": 2, \"c\": 3}\n",
    "for k,v in data.items():\n",
    "    print(k,v)\n",
    "    "
   ]
  },
  {
   "cell_type": "code",
   "execution_count": null,
   "metadata": {},
   "outputs": [],
   "source": []
  }
 ],
 "metadata": {
  "kernelspec": {
   "display_name": "base",
   "language": "python",
   "name": "python3"
  },
  "language_info": {
   "codemirror_mode": {
    "name": "ipython",
    "version": 3
   },
   "file_extension": ".py",
   "mimetype": "text/x-python",
   "name": "python",
   "nbconvert_exporter": "python",
   "pygments_lexer": "ipython3",
   "version": "3.10.10"
  },
  "orig_nbformat": 4
 },
 "nbformat": 4,
 "nbformat_minor": 2
}
